{
 "cells": [
  {
   "cell_type": "code",
   "execution_count": 2,
   "metadata": {},
   "outputs": [
    {
     "data": {
      "text/plain": [
       "(4.430232558139535, 6.058139534883721, 6.111568616752511)"
      ]
     },
     "execution_count": 2,
     "metadata": {},
     "output_type": "execute_result"
    }
   ],
   "source": [
    "import matplotlib.pyplot as plt\n",
    "import numpy as np\n",
    "import random\n",
    "import math\n",
    "data = np.array([[2,1],[5,5],[9,2],[5,1],[2,5],[1,1],[6,2],[3,5],[5,11],[3,12],[8,7],[1,5],[2,2],[3,1],[6,4]])\n",
    "x,y = data.T\n",
    "\n",
    "def make_circle (points):\n",
    "    sh = [(float(p[0]), float(p[1])) for p in points]\n",
    "    #Convert to randomize order.\n",
    "    random.shuffle(sh)\n",
    "    # adding points to set cointaing circle triplets.\n",
    "    c = None \n",
    "    for (i,p) in enumerate(sh):\n",
    "        if c is None or not isincircle(c,p):\n",
    "            c = makecircleonepoint(sh[0 : i+1], p)\n",
    "    return c\n",
    "# only when one boundry point is known.\n",
    "def makecircleonepoint (points, p):\n",
    "    c =  (p[0], p[1], 0.0)\n",
    "    for (i, q) in enumerate(points):\n",
    "        if not isincircle(c, q):\n",
    "            if c[2] ==0.0:\n",
    "                c = makediameter(p, q)\n",
    "            else:\n",
    "                c = makecircletwopoints(points[0 : i+1], p, q)\n",
    "    return c\n",
    "# when two boundry points are known\n",
    "def makecircletwopoints (points, p, q):\n",
    "    diameter = makediameter(p,q)\n",
    "    if all(isincircle(diameter, r) for r in points):\n",
    "        return diameter\n",
    "    le = None\n",
    "    re = None\n",
    "    for r in points:\n",
    "        cross = crossproduct(p[0], p[1], q[0], q[1], r[0], r[1])\n",
    "        c = makecircumcircle(p, q, r)\n",
    "        if c is None:\n",
    "            continue\n",
    "        elif cross > 0.0 and (le is None or crossproduct(p[0], p[1], q[0], q[1], c[0], c[1]) > crossproduct(p[0], p[1], q[0], q[1], le[0], le[1])):\n",
    "            le = c\n",
    "        elif cross < 0.0 and (re is None or crossproduct(p[0], p[1], q[0], q[1], c[0], c[1]) < crossproduct(p[0], p[1], q[0], q[1], re[0], re[1])):\n",
    "            re = c\n",
    "    return le if (re is None or (le is not None and le[2] <= re[2])) else re\n",
    "\n",
    "def crossproduct (x0, y0, x1, y1, x2, y2):\n",
    "    return (x1-x0) * (y2-y0) - (y1 - y0) * (x2 - x0)\n",
    " #to compute the circumscribed circle.\n",
    "def makecircumcircle(p0, p1, p2):\n",
    "    ax = p0[0]; ay = p0[1]\n",
    "    bx = p1[0]; by = p1[1]\n",
    "    cx = p2[0]; cy = p2[1]\n",
    "    d = (ax * (by - cy) + bx * (cy -ay) + cx * (ay - by)) * 2.0\n",
    "    if d == 0:\n",
    "        return None\n",
    "    x = ((ax * ax + ay * ay) * (by - cy) + (bx * bx + by * by) * (cy - ay) + (cx * cx + cy * cy) * (ay - by)) / d\n",
    "    y = ((ax * ax + ay * ay) * (cx - bx) + (bx * bx + by * by) * (ax - cx) + (cx * cx + cy * cy) * (bx - ax)) / d\n",
    "    return (x, y, math.hypot(x - ax, y - ay))\n",
    "\n",
    "# to compute the radius of the circle.\n",
    "def makediameter(p0, p1):\n",
    "    return((p0[0] + p1[0]) / 2.0, (p0[1] + p1[1]) / 2.0, math.hypot(p0[0] - p1[0], p0[1] - p1[1]) / 2.0)\n",
    "\n",
    "\n",
    "eps = 1e-12\n",
    "# test weather processing point is already included in circle or not \n",
    "def isincircle (c,p):\n",
    "    return c is not None and math.hypot(p[0] - c[0], p[1] - c[1]) < c[2] + eps\n",
    "\n",
    "make_circle (data)\n",
    "\n",
    "    "
   ]
  },
  {
   "cell_type": "code",
   "execution_count": null,
   "metadata": {},
   "outputs": [],
   "source": []
  }
 ],
 "metadata": {
  "kernelspec": {
   "display_name": "Python 3",
   "language": "python",
   "name": "python3"
  },
  "language_info": {
   "codemirror_mode": {
    "name": "ipython",
    "version": 3
   },
   "file_extension": ".py",
   "mimetype": "text/x-python",
   "name": "python",
   "nbconvert_exporter": "python",
   "pygments_lexer": "ipython3",
   "version": "3.6.4"
  }
 },
 "nbformat": 4,
 "nbformat_minor": 2
}
